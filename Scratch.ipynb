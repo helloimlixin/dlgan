{
 "cells": [
  {
   "cell_type": "markdown",
   "source": [
    "# Experiments"
   ],
   "metadata": {
    "collapsed": false
   },
   "id": "cad8b8f14e7ad223"
  },
  {
   "cell_type": "code",
   "execution_count": 1,
   "id": "initial_id",
   "metadata": {
    "collapsed": true,
    "ExecuteTime": {
     "end_time": "2024-01-19T21:59:27.510838500Z",
     "start_time": "2024-01-19T21:59:27.249618200Z"
    }
   },
   "outputs": [
    {
     "name": "stdout",
     "output_type": "stream",
     "text": [
      "Fri Jan 19 16:59:27 2024       \n",
      "+---------------------------------------------------------------------------------------+\n",
      "| NVIDIA-SMI 537.13                 Driver Version: 537.13       CUDA Version: 12.2     |\n",
      "|-----------------------------------------+----------------------+----------------------+\n",
      "| GPU  Name                     TCC/WDDM  | Bus-Id        Disp.A | Volatile Uncorr. ECC |\n",
      "| Fan  Temp   Perf          Pwr:Usage/Cap |         Memory-Usage | GPU-Util  Compute M. |\n",
      "|                                         |                      |               MIG M. |\n",
      "|=========================================+======================+======================|\n",
      "|   0  NVIDIA GeForce RTX 4080      WDDM  | 00000000:01:00.0  On |                  N/A |\n",
      "|  0%   42C    P8               7W / 320W |   1419MiB / 16376MiB |      8%      Default |\n",
      "|                                         |                      |                  N/A |\n",
      "+-----------------------------------------+----------------------+----------------------+\n",
      "                                                                                         \n",
      "+---------------------------------------------------------------------------------------+\n",
      "| Processes:                                                                            |\n",
      "|  GPU   GI   CI        PID   Type   Process name                            GPU Memory |\n",
      "|        ID   ID                                                             Usage      |\n",
      "|=======================================================================================|\n",
      "|    0   N/A  N/A      3392    C+G   ...wekyb3d8bbwe\\XboxGameBarWidgets.exe    N/A      |\n",
      "|    0   N/A  N/A      9456    C+G   C:\\Windows\\explorer.exe                   N/A      |\n",
      "|    0   N/A  N/A     10776    C+G   ...nt.CBS_cw5n1h2txyewy\\SearchHost.exe    N/A      |\n",
      "|    0   N/A  N/A     11036    C+G   ...2txyewy\\StartMenuExperienceHost.exe    N/A      |\n",
      "|    0   N/A  N/A     12756    C+G   ...5n1h2txyewy\\ShellExperienceHost.exe    N/A      |\n",
      "|    0   N/A  N/A     13992    C+G   ...t.LockApp_cw5n1h2txyewy\\LockApp.exe    N/A      |\n",
      "|    0   N/A  N/A     16092    C+G   ...cal\\Microsoft\\OneDrive\\OneDrive.exe    N/A      |\n",
      "|    0   N/A  N/A     16436    C+G   ...CBS_cw5n1h2txyewy\\TextInputHost.exe    N/A      |\n",
      "|    0   N/A  N/A     16580    C+G   ...GeForce Experience\\NVIDIA Share.exe    N/A      |\n",
      "|    0   N/A  N/A     16984    C+G   ...n\\120.0.2210.133\\msedgewebview2.exe    N/A      |\n",
      "|    0   N/A  N/A     18640    C+G   ....726_x64__8wekyb3d8bbwe\\msteams.exe    N/A      |\n",
      "|    0   N/A  N/A     20728    C+G   ...al\\Discord\\app-1.0.9030\\Discord.exe    N/A      |\n",
      "|    0   N/A  N/A     21736    C+G   ... Synapse 3 Host\\Razer Synapse 3.exe    N/A      |\n",
      "|    0   N/A  N/A     22068    C+G   ...aam7r\\AcrobatNotificationClient.exe    N/A      |\n",
      "|    0   N/A  N/A     22720    C+G   ...EA Desktop\\EA Desktop\\EADesktop.exe    N/A      |\n",
      "|    0   N/A  N/A     22788    C+G   ...ppData\\Local\\Poe\\app-1.1.13\\Poe.exe    N/A      |\n",
      "|    0   N/A  N/A     23672    C+G   ...87.0_x64__zpdnekdrzrea0\\Spotify.exe    N/A      |\n",
      "|    0   N/A  N/A     24336    C+G   ....0_x64__8she8kybcnzg4\\app\\Slack.exe    N/A      |\n",
      "|    0   N/A  N/A     24564    C+G   ...ekyb3d8bbwe\\WsaClient\\WsaClient.exe    N/A      |\n",
      "|    0   N/A  N/A     29096    C+G   ...64__8xx8rvfyw5nnt\\app\\Messenger.exe    N/A      |\n",
      "|    0   N/A  N/A     31752    C+G   ...on\\HEX\\Creative Cloud UI Helper.exe    N/A      |\n",
      "|    0   N/A  N/A     33716    C+G   ...ejd91yc\\AdobeNotificationClient.exe    N/A      |\n",
      "|    0   N/A  N/A     34296    C+G   ....5.51.0_x64__htrsf667h5kn2\\AWCC.exe    N/A      |\n",
      "|    0   N/A  N/A     38408    C+G   ...1.0_x64__8wekyb3d8bbwe\\Video.UI.exe    N/A      |\n",
      "|    0   N/A  N/A     39060    C+G   ...3.0_x64__cv1g1gvanyjgm\\WhatsApp.exe    N/A      |\n",
      "|    0   N/A  N/A     39352    C+G   ...\\PyCharm 2023.2.1\\bin\\pycharm64.exe    N/A      |\n",
      "|    0   N/A  N/A     39656    C+G   ...at DC\\Acrobat\\acrocef_1\\AcroCEF.exe    N/A      |\n",
      "|    0   N/A  N/A     40096    C+G   ....0_x64__8wekyb3d8bbwe\\HxOutlook.exe    N/A      |\n",
      "|    0   N/A  N/A     41444    C+G   ...siveControlPanel\\SystemSettings.exe    N/A      |\n",
      "|    0   N/A  N/A     41628    C+G   ...crosoft\\Edge\\Application\\msedge.exe    N/A      |\n",
      "|    0   N/A  N/A     42152    C+G   ...ekyb3d8bbwe\\PhoneExperienceHost.exe    N/A      |\n",
      "|    0   N/A  N/A     43016    C+G   ...oogle\\Chrome\\Application\\chrome.exe    N/A      |\n",
      "+---------------------------------------------------------------------------------------+\n"
     ]
    }
   ],
   "source": [
    "!nvidia-smi"
   ]
  },
  {
   "cell_type": "code",
   "execution_count": null,
   "outputs": [],
   "source": [],
   "metadata": {
    "collapsed": false
   },
   "id": "3f2fe1fe3da6e52d"
  }
 ],
 "metadata": {
  "kernelspec": {
   "display_name": "Python 3",
   "language": "python",
   "name": "python3"
  },
  "language_info": {
   "codemirror_mode": {
    "name": "ipython",
    "version": 2
   },
   "file_extension": ".py",
   "mimetype": "text/x-python",
   "name": "python",
   "nbconvert_exporter": "python",
   "pygments_lexer": "ipython2",
   "version": "2.7.6"
  }
 },
 "nbformat": 4,
 "nbformat_minor": 5
}
