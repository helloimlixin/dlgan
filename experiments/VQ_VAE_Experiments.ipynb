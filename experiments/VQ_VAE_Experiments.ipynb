{
 "cells": [
  {
   "cell_type": "markdown",
   "metadata": {
    "id": "DH9NwRaGElua"
   },
   "source": [
    "# [VQ-VAE](https://arxiv.org/abs/1711.00937) by  [Aäron van den Oord](https://twitter.com/avdnoord) et al. in PyTorch\n",
    "\n",
    "## Introduction\n",
    "\n",
    "Variational Auto Encoders (VAEs) can be thought of as what all but the last layer of a neural network is doing, namely feature extraction or seperating out the data. Thus given some data we can think of using a neural network for representation generation.\n",
    "\n",
    "Recall that the goal of a generative model is to estimate the probability distribution of high dimensional data such as images, videos, audio or even text by learning the underlying structure in the data as well as the dependencies between the different elements of the data. This is very useful since we can then use this representation to generate new data with similar properties. This way we can also learn useful features from the data in an unsupervised fashion.\n",
    "\n",
    "The VQ-VAE uses a discrete latent representation mostly because many important real-world objects are discrete. For example in images we might have categories like \"Cat\", \"Car\", etc. and it might not make sense to interpolate between these categories. Discrete representations are also easier to model since each category has a single value whereas if we had a continous latent space then we will need to normalize this density function and learn the dependencies between the different variables which could be very complex.\n",
    "\n",
    "### Code\n",
    "\n",
    "I have followed the code from the TensorFlow implementation by the author which you can find here [vqvae.py](https://github.com/deepmind/sonnet/blob/master/sonnet/python/modules/nets/vqvae.py) and [vqvae_example.ipynb](https://github.com/deepmind/sonnet/blob/master/sonnet/examples/vqvae_example.ipynb).\n",
    "\n",
    "Another PyTorch implementation is found at [pytorch-vqvae](https://github.com/ritheshkumar95/pytorch-vqvae).\n",
    "\n",
    "\n",
    "## Basic Idea\n",
    "\n",
    "The overall architecture is summarized in the diagram below:\n",
    "\n",
    "![](https://github.com/zalandoresearch/pytorch-vq-vae/blob/master/images/vq-vae.png?raw=1)"
   ]
  },
  {
   "cell_type": "markdown",
   "metadata": {
    "id": "0Ng9RlK4Elug"
   },
   "source": [
    "We start by defining a latent embedding space of dimension `[K, D]` where `K` are the number of embeddings and `D` is the dimensionality of each latent embeddng vector, i.e. $e_i \\in \\mathbb{R}^{D}$. The model is comprised of an encoder and a decoder. The encoder will map the input to a sequence of discrete latent variables, whereas the decoder will try to reconstruct the input from these latent sequences.\n",
    "\n",
    "More preciesly, the model will take in batches of RGB images,  say $x$, each of size 32x32 for our example, and pass it through a ConvNet encoder producing some output $E(x)$, where we make sure the channels are the same as the dimensionality of the latent embedding vectors. To calculate the discrete latent variable we find the nearest embedding vector and output it's index.\n",
    "\n",
    "The input to the decoder is the embedding vector corresponding to the index which is passed through the decoder to produce the reconstructed image.\n",
    "\n",
    "Since the nearest neighbour lookup has no real gradient in the backward pass we simply pass the gradients from the decoder to the encoder  unaltered. The intuition is that since the output representation of the encoder and the input to the decoder share the same `D` channel dimensional space, the gradients contain useful information for how the encoder has to change its output to lower the reconstruction loss.\n",
    "\n",
    "## Loss\n",
    "\n",
    "The total loss is actually composed of three components\n",
    "\n",
    "1. **reconstruction loss**: which optimizes the decoder and encoder\n",
    "1. **codebook loss**: due to the fact that gradients bypass the embedding, we use a dictionary learning algorithm  which uses an $l_2$  error to move the embedding vectors $e_i$ towards the encoder output\n",
    "1. **commitment loss**:  since the volume of the embedding space is dimensionless, it can grow arbirtarily if the embeddings $e_i$ do not train as fast as  the encoder parameters, and thus we add a commitment loss to make sure that the encoder commits to an embedding"
   ]
  },
  {
   "cell_type": "code",
   "execution_count": 1,
   "metadata": {
    "colab": {
     "base_uri": "https://localhost:8080/"
    },
    "id": "-dAEXia5Eluh",
    "outputId": "cd7dbc19-128c-4434-a87e-459b82535002",
    "ExecuteTime": {
     "end_time": "2024-01-15T04:25:54.326018800Z",
     "start_time": "2024-01-15T04:25:52.163910900Z"
    }
   },
   "outputs": [
    {
     "name": "stdout",
     "output_type": "stream",
     "text": [
      "Requirement already satisfied: umap-learn in c:\\users\\hello\\anaconda3\\envs\\research\\lib\\site-packages (0.5.4)\n",
      "Requirement already satisfied: numpy>=1.17 in c:\\users\\hello\\anaconda3\\envs\\research\\lib\\site-packages (from umap-learn) (1.24.3)\n",
      "Requirement already satisfied: scipy>=1.3.1 in c:\\users\\hello\\anaconda3\\envs\\research\\lib\\site-packages (from umap-learn) (1.11.1)\n",
      "Requirement already satisfied: scikit-learn>=0.22 in c:\\users\\hello\\anaconda3\\envs\\research\\lib\\site-packages (from umap-learn) (1.3.1)\n",
      "Requirement already satisfied: numba>=0.51.2 in c:\\users\\hello\\anaconda3\\envs\\research\\lib\\site-packages (from umap-learn) (0.57.1)\n",
      "Requirement already satisfied: pynndescent>=0.5 in c:\\users\\hello\\anaconda3\\envs\\research\\lib\\site-packages (from umap-learn) (0.5.10)\n",
      "Requirement already satisfied: tqdm in c:\\users\\hello\\anaconda3\\envs\\research\\lib\\site-packages (from umap-learn) (4.66.1)\n",
      "Requirement already satisfied: llvmlite<0.41,>=0.40.0dev0 in c:\\users\\hello\\anaconda3\\envs\\research\\lib\\site-packages (from numba>=0.51.2->umap-learn) (0.40.1)\n",
      "Requirement already satisfied: joblib>=0.11 in c:\\users\\hello\\anaconda3\\envs\\research\\lib\\site-packages (from pynndescent>=0.5->umap-learn) (1.3.2)\n",
      "Requirement already satisfied: threadpoolctl>=2.0.0 in c:\\users\\hello\\anaconda3\\envs\\research\\lib\\site-packages (from scikit-learn>=0.22->umap-learn) (3.2.0)\n",
      "Requirement already satisfied: colorama in c:\\users\\hello\\anaconda3\\envs\\research\\lib\\site-packages (from tqdm->umap-learn) (0.4.6)\n"
     ]
    }
   ],
   "source": [
    "!pip install umap-learn"
   ]
  },
  {
   "cell_type": "code",
   "execution_count": 2,
   "metadata": {
    "id": "n71555TJElui",
    "ExecuteTime": {
     "end_time": "2024-01-15T04:26:01.514336800Z",
     "start_time": "2024-01-15T04:25:54.325018300Z"
    }
   },
   "outputs": [],
   "source": [
    "from __future__ import print_function\n",
    "\n",
    "\n",
    "import matplotlib.pyplot as plt\n",
    "import numpy as np\n",
    "from scipy.signal import savgol_filter\n",
    "\n",
    "\n",
    "from six.moves import xrange\n",
    "\n",
    "import umap\n",
    "\n",
    "import torch\n",
    "import torch.nn as nn\n",
    "import torch.nn.functional as F\n",
    "from torch.utils.data import DataLoader\n",
    "import torch.optim as optim\n",
    "\n",
    "import torchvision.datasets as datasets\n",
    "import torchvision.transforms as transforms\n",
    "from torchvision.utils import make_grid"
   ]
  },
  {
   "cell_type": "code",
   "execution_count": 3,
   "metadata": {
    "id": "k_HseY32Eluj",
    "ExecuteTime": {
     "end_time": "2024-01-15T04:26:01.583916700Z",
     "start_time": "2024-01-15T04:26:01.514926400Z"
    }
   },
   "outputs": [],
   "source": [
    "device = torch.device(\"cuda\" if torch.cuda.is_available() else \"cpu\")"
   ]
  },
  {
   "cell_type": "markdown",
   "metadata": {
    "id": "Sif_cUv_Eluk"
   },
   "source": [
    "## Load Data"
   ]
  },
  {
   "cell_type": "code",
   "execution_count": 4,
   "metadata": {
    "colab": {
     "base_uri": "https://localhost:8080/"
    },
    "id": "ayetJ24VEluk",
    "outputId": "1a289eed-5309-4d12-8f24-ee4f4eb4ed42",
    "ExecuteTime": {
     "end_time": "2024-01-15T04:26:02.684119Z",
     "start_time": "2024-01-15T04:26:01.585076500Z"
    }
   },
   "outputs": [
    {
     "name": "stdout",
     "output_type": "stream",
     "text": [
      "Files already downloaded and verified\n",
      "Files already downloaded and verified\n"
     ]
    }
   ],
   "source": [
    "training_data = datasets.CIFAR10(root=\"data\", train=True, download=True,\n",
    "                                  transform=transforms.Compose([\n",
    "                                      transforms.ToTensor(),\n",
    "                                      transforms.Normalize((0.5,0.5,0.5), (1.0,1.0,1.0))\n",
    "                                  ]))\n",
    "\n",
    "validation_data = datasets.CIFAR10(root=\"data\", train=False, download=True,\n",
    "                                  transform=transforms.Compose([\n",
    "                                      transforms.ToTensor(),\n",
    "                                      transforms.Normalize((0.5,0.5,0.5), (1.0,1.0,1.0))\n",
    "                                  ]))"
   ]
  },
  {
   "cell_type": "code",
   "execution_count": 5,
   "metadata": {
    "id": "1oAux3baElul",
    "ExecuteTime": {
     "end_time": "2024-01-15T04:26:03.636375500Z",
     "start_time": "2024-01-15T04:26:02.678113300Z"
    }
   },
   "outputs": [],
   "source": [
    "data_variance = np.var(training_data.data / 255.0)"
   ]
  },
  {
   "cell_type": "markdown",
   "metadata": {
    "id": "ZtAjemVWElum"
   },
   "source": [
    "## Vector Quantizer Layer\n",
    "\n",
    "This layer takes a tensor to be quantized. The channel dimension will be used as the space in which to quantize. All other dimensions will be flattened and will be seen as different examples to quantize.\n",
    "\n",
    "The output tensor will have the same shape as the input.\n",
    "\n",
    "As an example for a `BCHW` tensor of shape `[16, 64, 32, 32]`, we will first convert it to an `BHWC` tensor of shape `[16, 32, 32, 64]` and then reshape it into `[16384, 64]` and all `16384` vectors of size `64`  will be quantized independently. In otherwords, the channels are used as the space in which to quantize. All other dimensions will be flattened and be seen as different examples to quantize, `16384` in this case."
   ]
  },
  {
   "cell_type": "code",
   "execution_count": 6,
   "metadata": {
    "id": "51PMSjgtElum",
    "ExecuteTime": {
     "end_time": "2024-01-15T04:26:03.643802700Z",
     "start_time": "2024-01-15T04:26:03.641130300Z"
    }
   },
   "outputs": [],
   "source": [
    "class VectorQuantizer(nn.Module):\n",
    "    def __init__(self, num_embeddings, embedding_dim, commitment_cost):\n",
    "        super(VectorQuantizer, self).__init__()\n",
    "\n",
    "        self._embedding_dim = embedding_dim\n",
    "        self._num_embeddings = num_embeddings\n",
    "\n",
    "        self._embedding = nn.Embedding(self._num_embeddings, self._embedding_dim)\n",
    "        self._embedding.weight.data.uniform_(-1/self._num_embeddings, 1/self._num_embeddings)\n",
    "        self._commitment_cost = commitment_cost\n",
    "\n",
    "    def forward(self, inputs):\n",
    "        # convert inputs from BCHW -> BHWC\n",
    "        inputs = inputs.permute(0, 2, 3, 1).contiguous()\n",
    "        input_shape = inputs.shape\n",
    "\n",
    "        # Flatten input\n",
    "        flat_input = inputs.view(-1, self._embedding_dim)\n",
    "\n",
    "        # Calculate distances\n",
    "        distances = (torch.sum(flat_input**2, dim=1, keepdim=True)\n",
    "                    + torch.sum(self._embedding.weight**2, dim=1)\n",
    "                    - 2 * torch.matmul(flat_input, self._embedding.weight.t()))\n",
    "\n",
    "        # Encoding\n",
    "        encoding_indices = torch.argmin(distances, dim=1).unsqueeze(1)\n",
    "        encodings = torch.zeros(encoding_indices.shape[0], self._num_embeddings, device=inputs.device)\n",
    "        encodings.scatter_(1, encoding_indices, 1)\n",
    "\n",
    "        # Quantize and unflatten\n",
    "        quantized = torch.matmul(encodings, self._embedding.weight).view(input_shape)\n",
    "\n",
    "        # Loss\n",
    "        e_latent_loss = F.mse_loss(quantized.detach(), inputs)\n",
    "        q_latent_loss = F.mse_loss(quantized, inputs.detach())\n",
    "        loss = q_latent_loss + self._commitment_cost * e_latent_loss\n",
    "\n",
    "        quantized = inputs + (quantized - inputs).detach()\n",
    "        avg_probs = torch.mean(encodings, dim=0)\n",
    "        perplexity = torch.exp(-torch.sum(avg_probs * torch.log(avg_probs + 1e-10)))\n",
    "\n",
    "        # convert quantized from BHWC -> BCHW\n",
    "        return loss, quantized.permute(0, 3, 1, 2).contiguous(), perplexity, encodings"
   ]
  },
  {
   "cell_type": "markdown",
   "metadata": {
    "id": "m5PJ3e8ZElun"
   },
   "source": [
    "We will also implement a slightly modified version  which will use exponential moving averages to update the embedding vectors instead of an auxillary loss. This has the advantage that the embedding updates are independent of the choice of optimizer for the encoder, decoder and other parts of the architecture. For most experiments the EMA version trains faster than the non-EMA version."
   ]
  },
  {
   "cell_type": "code",
   "execution_count": 7,
   "metadata": {
    "id": "0F968t5WElun",
    "ExecuteTime": {
     "end_time": "2024-01-15T04:26:03.655660200Z",
     "start_time": "2024-01-15T04:26:03.643295400Z"
    }
   },
   "outputs": [],
   "source": [
    "class VectorQuantizerEMA(nn.Module):\n",
    "    def __init__(self, num_embeddings, embedding_dim, commitment_cost, decay, epsilon=1e-5):\n",
    "        super(VectorQuantizerEMA, self).__init__()\n",
    "\n",
    "        self._embedding_dim = embedding_dim\n",
    "        self._num_embeddings = num_embeddings\n",
    "\n",
    "        self._embedding = nn.Embedding(self._num_embeddings, self._embedding_dim)\n",
    "        self._embedding.weight.data.normal_()\n",
    "        self._commitment_cost = commitment_cost\n",
    "\n",
    "        self.register_buffer('_ema_cluster_size', torch.zeros(num_embeddings))\n",
    "        self._ema_w = nn.Parameter(torch.Tensor(num_embeddings, self._embedding_dim))\n",
    "        self._ema_w.data.normal_()\n",
    "\n",
    "        self._decay = decay\n",
    "        self._epsilon = epsilon\n",
    "\n",
    "    def forward(self, inputs):\n",
    "        # convert inputs from BCHW -> BHWC\n",
    "        inputs = inputs.permute(0, 2, 3, 1).contiguous()\n",
    "        input_shape = inputs.shape\n",
    "\n",
    "        # Flatten input\n",
    "        flat_input = inputs.view(-1, self._embedding_dim)\n",
    "\n",
    "        # Calculate distances\n",
    "        distances = (torch.sum(flat_input**2, dim=1, keepdim=True)\n",
    "                    + torch.sum(self._embedding.weight**2, dim=1)\n",
    "                    - 2 * torch.matmul(flat_input, self._embedding.weight.t()))\n",
    "\n",
    "        # Encoding\n",
    "        encoding_indices = torch.argmin(distances, dim=1).unsqueeze(1)\n",
    "        encodings = torch.zeros(encoding_indices.shape[0], self._num_embeddings, device=inputs.device)\n",
    "        encodings.scatter_(1, encoding_indices, 1)\n",
    "\n",
    "        # Quantize and unflatten\n",
    "        quantized = torch.matmul(encodings, self._embedding.weight).view(input_shape)\n",
    "\n",
    "        # Use EMA to update the embedding vectors\n",
    "        if self.training:\n",
    "            self._ema_cluster_size = self._ema_cluster_size * self._decay + \\\n",
    "                                     (1 - self._decay) * torch.sum(encodings, 0)\n",
    "\n",
    "            # Laplace smoothing of the cluster size\n",
    "            n = torch.sum(self._ema_cluster_size.data)\n",
    "            self._ema_cluster_size = (\n",
    "                (self._ema_cluster_size + self._epsilon)\n",
    "                / (n + self._num_embeddings * self._epsilon) * n)\n",
    "\n",
    "            dw = torch.matmul(encodings.t(), flat_input)\n",
    "            self._ema_w = nn.Parameter(self._ema_w * self._decay + (1 - self._decay) * dw)\n",
    "\n",
    "            self._embedding.weight = nn.Parameter(self._ema_w / self._ema_cluster_size.unsqueeze(1))\n",
    "\n",
    "        # Loss\n",
    "        e_latent_loss = F.mse_loss(quantized.detach(), inputs)\n",
    "        loss = self._commitment_cost * e_latent_loss\n",
    "\n",
    "        # Straight Through Estimator\n",
    "        quantized = inputs + (quantized - inputs).detach()\n",
    "        avg_probs = torch.mean(encodings, dim=0)\n",
    "        perplexity = torch.exp(-torch.sum(avg_probs * torch.log(avg_probs + 1e-10)))\n",
    "\n",
    "        # convert quantized from BHWC -> BCHW\n",
    "        return loss, quantized.permute(0, 3, 1, 2).contiguous(), perplexity, encodings"
   ]
  },
  {
   "cell_type": "markdown",
   "metadata": {
    "id": "JASaaD6tElun"
   },
   "source": [
    "## Encoder & Decoder Architecture\n",
    "\n",
    "The encoder and decoder architecture is based on a ResNet and is implemented below:"
   ]
  },
  {
   "cell_type": "code",
   "execution_count": 8,
   "metadata": {
    "id": "RogLy8BWElun",
    "ExecuteTime": {
     "end_time": "2024-01-15T04:26:03.664461Z",
     "start_time": "2024-01-15T04:26:03.653975500Z"
    }
   },
   "outputs": [],
   "source": [
    "class Residual(nn.Module):\n",
    "    def __init__(self, in_channels, num_hiddens, num_residual_hiddens):\n",
    "        super(Residual, self).__init__()\n",
    "        self._block = nn.Sequential(\n",
    "            nn.ReLU(True),\n",
    "            nn.Conv2d(in_channels=in_channels,\n",
    "                      out_channels=num_residual_hiddens,\n",
    "                      kernel_size=3, stride=1, padding=1, bias=False),\n",
    "            nn.ReLU(True),\n",
    "            nn.Conv2d(in_channels=num_residual_hiddens,\n",
    "                      out_channels=num_hiddens,\n",
    "                      kernel_size=1, stride=1, bias=False)\n",
    "        )\n",
    "\n",
    "    def forward(self, x):\n",
    "        return x + self._block(x)\n",
    "\n",
    "\n",
    "class ResidualStack(nn.Module):\n",
    "    def __init__(self, in_channels, num_hiddens, num_residual_layers, num_residual_hiddens):\n",
    "        super(ResidualStack, self).__init__()\n",
    "        self._num_residual_layers = num_residual_layers\n",
    "        self._layers = nn.ModuleList([Residual(in_channels, num_hiddens, num_residual_hiddens)\n",
    "                             for _ in range(self._num_residual_layers)])\n",
    "\n",
    "    def forward(self, x):\n",
    "        for i in range(self._num_residual_layers):\n",
    "            x = self._layers[i](x)\n",
    "        return F.relu(x)"
   ]
  },
  {
   "cell_type": "code",
   "execution_count": 9,
   "metadata": {
    "id": "temAvXn1Eluo",
    "ExecuteTime": {
     "end_time": "2024-01-15T04:26:03.680308Z",
     "start_time": "2024-01-15T04:26:03.659169900Z"
    }
   },
   "outputs": [],
   "source": [
    "class Encoder(nn.Module):\n",
    "    def __init__(self, in_channels, num_hiddens, num_residual_layers, num_residual_hiddens):\n",
    "        super(Encoder, self).__init__()\n",
    "\n",
    "        self._conv_1 = nn.Conv2d(in_channels=in_channels,\n",
    "                                 out_channels=num_hiddens//2,\n",
    "                                 kernel_size=4,\n",
    "                                 stride=2, padding=1)\n",
    "        self._conv_2 = nn.Conv2d(in_channels=num_hiddens//2,\n",
    "                                 out_channels=num_hiddens,\n",
    "                                 kernel_size=4,\n",
    "                                 stride=2, padding=1)\n",
    "        self._conv_3 = nn.Conv2d(in_channels=num_hiddens,\n",
    "                                 out_channels=num_hiddens,\n",
    "                                 kernel_size=3,\n",
    "                                 stride=1, padding=1)\n",
    "        self._residual_stack = ResidualStack(in_channels=num_hiddens,\n",
    "                                             num_hiddens=num_hiddens,\n",
    "                                             num_residual_layers=num_residual_layers,\n",
    "                                             num_residual_hiddens=num_residual_hiddens)\n",
    "\n",
    "    def forward(self, inputs):\n",
    "        x = self._conv_1(inputs)\n",
    "        x = F.relu(x)\n",
    "\n",
    "        x = self._conv_2(x)\n",
    "        x = F.relu(x)\n",
    "\n",
    "        x = self._conv_3(x)\n",
    "        return self._residual_stack(x)"
   ]
  },
  {
   "cell_type": "code",
   "execution_count": 10,
   "metadata": {
    "id": "DomC9GIdEluo",
    "ExecuteTime": {
     "end_time": "2024-01-15T04:26:03.681323Z",
     "start_time": "2024-01-15T04:26:03.662945Z"
    }
   },
   "outputs": [],
   "source": [
    "class Decoder(nn.Module):\n",
    "    def __init__(self, in_channels, num_hiddens, num_residual_layers, num_residual_hiddens):\n",
    "        super(Decoder, self).__init__()\n",
    "\n",
    "        self._conv_1 = nn.Conv2d(in_channels=in_channels,\n",
    "                                 out_channels=num_hiddens,\n",
    "                                 kernel_size=3,\n",
    "                                 stride=1, padding=1)\n",
    "\n",
    "        self._residual_stack = ResidualStack(in_channels=num_hiddens,\n",
    "                                             num_hiddens=num_hiddens,\n",
    "                                             num_residual_layers=num_residual_layers,\n",
    "                                             num_residual_hiddens=num_residual_hiddens)\n",
    "\n",
    "        self._conv_trans_1 = nn.ConvTranspose2d(in_channels=num_hiddens,\n",
    "                                                out_channels=num_hiddens//2,\n",
    "                                                kernel_size=4,\n",
    "                                                stride=2, padding=1)\n",
    "\n",
    "        self._conv_trans_2 = nn.ConvTranspose2d(in_channels=num_hiddens//2,\n",
    "                                                out_channels=3,\n",
    "                                                kernel_size=4,\n",
    "                                                stride=2, padding=1)\n",
    "\n",
    "    def forward(self, inputs):\n",
    "        x = self._conv_1(inputs)\n",
    "\n",
    "        x = self._residual_stack(x)\n",
    "\n",
    "        x = self._conv_trans_1(x)\n",
    "        x = F.relu(x)\n",
    "\n",
    "        return self._conv_trans_2(x)"
   ]
  },
  {
   "cell_type": "markdown",
   "metadata": {
    "id": "Q0SAbtlvEluo"
   },
   "source": [
    "## Train\n",
    "\n",
    "We use the hyperparameters from the author's code:"
   ]
  },
  {
   "cell_type": "code",
   "execution_count": 11,
   "metadata": {
    "id": "8wsU0gQAEluo",
    "ExecuteTime": {
     "end_time": "2024-01-15T04:26:03.681323Z",
     "start_time": "2024-01-15T04:26:03.666176300Z"
    }
   },
   "outputs": [],
   "source": [
    "batch_size = 256\n",
    "num_training_updates = 200000\n",
    "\n",
    "num_hiddens = 128\n",
    "num_residual_hiddens = 32\n",
    "num_residual_layers = 2\n",
    "\n",
    "embedding_dim = 64\n",
    "num_embeddings = 512\n",
    "\n",
    "commitment_cost = 0.25\n",
    "\n",
    "decay = 0\n",
    "\n",
    "learning_rate = 1e-4"
   ]
  },
  {
   "cell_type": "code",
   "execution_count": 12,
   "metadata": {
    "id": "Pt1J7RCyEluo",
    "ExecuteTime": {
     "end_time": "2024-01-15T04:26:03.681323Z",
     "start_time": "2024-01-15T04:26:03.672056Z"
    }
   },
   "outputs": [],
   "source": [
    "training_loader = DataLoader(training_data,\n",
    "                             batch_size=batch_size,\n",
    "                             shuffle=True,\n",
    "                             pin_memory=True)"
   ]
  },
  {
   "cell_type": "code",
   "execution_count": 13,
   "metadata": {
    "id": "z8w9Qi3ZEluo",
    "ExecuteTime": {
     "end_time": "2024-01-15T04:26:03.681323Z",
     "start_time": "2024-01-15T04:26:03.674164Z"
    }
   },
   "outputs": [],
   "source": [
    "validation_loader = DataLoader(validation_data,\n",
    "                               batch_size=32,\n",
    "                               shuffle=False,\n",
    "                               pin_memory=True)"
   ]
  },
  {
   "cell_type": "code",
   "execution_count": 14,
   "metadata": {
    "id": "5AhOJdQuElup",
    "ExecuteTime": {
     "end_time": "2024-01-15T04:26:03.682329500Z",
     "start_time": "2024-01-15T04:26:03.679176600Z"
    }
   },
   "outputs": [],
   "source": [
    "class Model(nn.Module):\n",
    "    def __init__(self, num_hiddens, num_residual_layers, num_residual_hiddens,\n",
    "                 num_embeddings, embedding_dim, commitment_cost, decay=0):\n",
    "        super(Model, self).__init__()\n",
    "\n",
    "        self._encoder = Encoder(3, num_hiddens,\n",
    "                                num_residual_layers,\n",
    "                                num_residual_hiddens)\n",
    "        self._pre_vq_conv = nn.Conv2d(in_channels=num_hiddens,\n",
    "                                      out_channels=embedding_dim,\n",
    "                                      kernel_size=1,\n",
    "                                      stride=1)\n",
    "        if decay > 0.0:\n",
    "            self._vq_vae = VectorQuantizerEMA(num_embeddings, embedding_dim,\n",
    "                                              commitment_cost, decay)\n",
    "        else:\n",
    "            self._vq_vae = VectorQuantizer(num_embeddings, embedding_dim,\n",
    "                                           commitment_cost)\n",
    "        self._decoder = Decoder(embedding_dim,\n",
    "                                num_hiddens,\n",
    "                                num_residual_layers,\n",
    "                                num_residual_hiddens)\n",
    "\n",
    "    def forward(self, x):\n",
    "        z = self._encoder(x)\n",
    "        z = self._pre_vq_conv(z)\n",
    "        loss, quantized, perplexity, _ = self._vq_vae(z)\n",
    "        x_recon = self._decoder(quantized)\n",
    "\n",
    "        return loss, x_recon, perplexity"
   ]
  },
  {
   "cell_type": "code",
   "execution_count": 15,
   "metadata": {
    "id": "T7KIfKY1Elup",
    "ExecuteTime": {
     "end_time": "2024-01-15T04:26:05.835730600Z",
     "start_time": "2024-01-15T04:26:03.682329500Z"
    }
   },
   "outputs": [],
   "source": [
    "model = Model(num_hiddens, num_residual_layers, num_residual_hiddens,\n",
    "              num_embeddings, embedding_dim,\n",
    "              commitment_cost, decay).to(device)"
   ]
  },
  {
   "cell_type": "code",
   "execution_count": 16,
   "metadata": {
    "id": "bZbxX4iwElup",
    "ExecuteTime": {
     "end_time": "2024-01-15T04:26:05.844127500Z",
     "start_time": "2024-01-15T04:26:05.836730800Z"
    }
   },
   "outputs": [],
   "source": [
    "optimizer = optim.Adam(model.parameters(), lr=learning_rate, amsgrad=False)"
   ]
  },
  {
   "cell_type": "code",
   "execution_count": null,
   "metadata": {
    "colab": {
     "background_save": true,
     "base_uri": "https://localhost:8080/"
    },
    "id": "G0_owngAElup",
    "outputId": "a3a8c631-6972-4626-eace-f65db913fba6",
    "is_executing": true,
    "ExecuteTime": {
     "start_time": "2024-01-15T04:26:05.841618900Z"
    }
   },
   "outputs": [
    {
     "name": "stdout",
     "output_type": "stream",
     "text": [
      "100 iterations\n",
      "recon_error: 0.955\n",
      "perplexity: 1.644\n",
      "200 iterations\n",
      "recon_error: 0.646\n",
      "perplexity: 1.876\n",
      "300 iterations\n",
      "recon_error: 0.508\n",
      "perplexity: 2.381\n",
      "400 iterations\n",
      "recon_error: 0.425\n",
      "perplexity: 3.306\n",
      "500 iterations\n",
      "recon_error: 0.399\n",
      "perplexity: 3.696\n",
      "600 iterations\n",
      "recon_error: 0.441\n",
      "perplexity: 3.600\n",
      "700 iterations\n",
      "recon_error: 0.426\n",
      "perplexity: 3.819\n",
      "800 iterations\n",
      "recon_error: 0.407\n",
      "perplexity: 3.642\n",
      "900 iterations\n",
      "recon_error: 0.417\n",
      "perplexity: 3.656\n",
      "1000 iterations\n",
      "recon_error: 0.362\n",
      "perplexity: 3.738\n",
      "1100 iterations\n",
      "recon_error: 0.347\n",
      "perplexity: 3.898\n",
      "1200 iterations\n",
      "recon_error: 0.341\n",
      "perplexity: 3.997\n",
      "1300 iterations\n",
      "recon_error: 0.334\n",
      "perplexity: 4.133\n",
      "1400 iterations\n",
      "recon_error: 0.330\n",
      "perplexity: 4.275\n",
      "1500 iterations\n",
      "recon_error: 0.325\n",
      "perplexity: 4.341\n",
      "1600 iterations\n",
      "recon_error: 0.332\n",
      "perplexity: 4.224\n",
      "1700 iterations\n",
      "recon_error: 0.342\n",
      "perplexity: 4.038\n",
      "1800 iterations\n",
      "recon_error: 0.337\n",
      "perplexity: 3.919\n",
      "1900 iterations\n",
      "recon_error: 0.337\n",
      "perplexity: 3.669\n",
      "2000 iterations\n",
      "recon_error: 0.333\n",
      "perplexity: 3.656\n",
      "2100 iterations\n",
      "recon_error: 0.321\n",
      "perplexity: 3.814\n",
      "2200 iterations\n",
      "recon_error: 0.329\n",
      "perplexity: 3.673\n",
      "2300 iterations\n",
      "recon_error: 0.327\n",
      "perplexity: 3.745\n",
      "2400 iterations\n",
      "recon_error: 0.317\n",
      "perplexity: 3.824\n",
      "2500 iterations\n",
      "recon_error: 0.319\n",
      "perplexity: 3.990\n",
      "2600 iterations\n",
      "recon_error: 0.318\n",
      "perplexity: 4.201\n",
      "2700 iterations\n",
      "recon_error: 0.312\n",
      "perplexity: 4.443\n",
      "2800 iterations\n",
      "recon_error: 0.306\n",
      "perplexity: 4.646\n",
      "2900 iterations\n",
      "recon_error: 0.301\n",
      "perplexity: 4.669\n",
      "3000 iterations\n",
      "recon_error: 0.301\n",
      "perplexity: 4.647\n",
      "3100 iterations\n",
      "recon_error: 0.296\n",
      "perplexity: 4.762\n",
      "3200 iterations\n",
      "recon_error: 0.282\n",
      "perplexity: 4.910\n",
      "3300 iterations\n",
      "recon_error: 0.291\n",
      "perplexity: 4.800\n",
      "3400 iterations\n",
      "recon_error: 0.304\n",
      "perplexity: 4.605\n",
      "3500 iterations\n",
      "recon_error: 0.292\n",
      "perplexity: 4.547\n",
      "3600 iterations\n",
      "recon_error: 0.272\n",
      "perplexity: 4.496\n",
      "3700 iterations\n",
      "recon_error: 0.270\n",
      "perplexity: 4.465\n",
      "3800 iterations\n",
      "recon_error: 0.268\n",
      "perplexity: 4.441\n"
     ]
    }
   ],
   "source": [
    "model.train()\n",
    "train_res_recon_error = []\n",
    "train_res_perplexity = []\n",
    "\n",
    "for i in xrange(num_training_updates):\n",
    "    (data, _) = next(iter(training_loader))\n",
    "    data = data.to(device)\n",
    "    optimizer.zero_grad()\n",
    "\n",
    "    vq_loss, data_recon, perplexity = model(data)\n",
    "    recon_error = F.mse_loss(data_recon, data) / data_variance\n",
    "    loss = recon_error + vq_loss\n",
    "    loss.backward()\n",
    "\n",
    "    optimizer.step()\n",
    "\n",
    "    train_res_recon_error.append(recon_error.item())\n",
    "    train_res_perplexity.append(perplexity.item())\n",
    "\n",
    "    if (i+1) % 100 == 0:\n",
    "        print('%d iterations' % (i+1))\n",
    "        print('recon_error: %.3f' % np.mean(train_res_recon_error[-100:]))\n",
    "        print('perplexity: %.3f' % np.mean(train_res_perplexity[-100:]))\n",
    "        print()"
   ]
  },
  {
   "cell_type": "markdown",
   "metadata": {
    "id": "pZKa4woBElup"
   },
   "source": [
    "## Plot Loss"
   ]
  },
  {
   "cell_type": "code",
   "execution_count": null,
   "metadata": {
    "colab": {
     "background_save": true
    },
    "id": "Xs9ccAMwElup",
    "is_executing": true
   },
   "outputs": [],
   "source": [
    "train_res_recon_error_smooth = savgol_filter(train_res_recon_error, 201, 7)\n",
    "train_res_perplexity_smooth = savgol_filter(train_res_perplexity, 201, 7)"
   ]
  },
  {
   "cell_type": "code",
   "execution_count": null,
   "metadata": {
    "colab": {
     "background_save": true
    },
    "id": "NwdJMiOWElup",
    "outputId": "b83f1781-9c89-4e8c-ce83-e70f929a1494",
    "is_executing": true
   },
   "outputs": [],
   "source": [
    "f = plt.figure(figsize=(16,8))\n",
    "ax = f.add_subplot(1,1,1)\n",
    "ax.plot(train_res_recon_error_smooth)\n",
    "ax.set_yscale('log')\n",
    "ax.set_title('Smoothed NMSE.')\n",
    "ax.set_xlabel('iteration')"
   ]
  },
  {
   "cell_type": "markdown",
   "metadata": {
    "id": "00av3gZtEluq"
   },
   "source": [
    "## View Reconstructions"
   ]
  },
  {
   "cell_type": "code",
   "execution_count": null,
   "metadata": {
    "colab": {
     "background_save": true
    },
    "id": "SFvvup7IEluq",
    "is_executing": true
   },
   "outputs": [],
   "source": [
    "model.eval()\n",
    "\n",
    "(valid_originals, _) = next(iter(validation_loader))\n",
    "valid_originals = valid_originals.to(device)\n",
    "\n",
    "vq_output_eval = model._pre_vq_conv(model._encoder(valid_originals))\n",
    "_, valid_quantize, _, _ = model._vq_vae(vq_output_eval)\n",
    "valid_reconstructions = model._decoder(valid_quantize)"
   ]
  },
  {
   "cell_type": "code",
   "execution_count": null,
   "metadata": {
    "colab": {
     "background_save": true
    },
    "id": "pTIOeVSqEluq",
    "is_executing": true
   },
   "outputs": [],
   "source": [
    "(train_originals, _) = next(iter(training_loader))\n",
    "train_originals = train_originals.to(device)\n",
    "_, train_reconstructions, _, _ = model._vq_vae(train_originals)"
   ]
  },
  {
   "cell_type": "code",
   "execution_count": null,
   "metadata": {
    "colab": {
     "background_save": true
    },
    "id": "8JGKn04gxWVx",
    "is_executing": true
   },
   "outputs": [],
   "source": [
    "plt.rcParams[\"figure.figsize\"] = (10,8)"
   ]
  },
  {
   "cell_type": "code",
   "execution_count": null,
   "metadata": {
    "colab": {
     "background_save": true
    },
    "id": "s-cuGXUFEluq",
    "is_executing": true
   },
   "outputs": [],
   "source": [
    "def show(img):\n",
    "    npimg = img.numpy()\n",
    "    fig = plt.imshow(np.transpose(npimg, (1,2,0)), interpolation='nearest')\n",
    "    fig.axes.get_xaxis().set_visible(False)\n",
    "    fig.axes.get_yaxis().set_visible(False)"
   ]
  },
  {
   "cell_type": "code",
   "execution_count": null,
   "metadata": {
    "colab": {
     "background_save": true
    },
    "id": "_qv6ftShGnyF",
    "outputId": "5a70945d-7deb-48c6-956c-009ae80f7a4e",
    "is_executing": true
   },
   "outputs": [],
   "source": [
    "# Latent space images\n",
    "latents = valid_quantize.view(32 * 64, embedding_dim)\n",
    "U, S, V = torch.pca_lowrank(latents)\n",
    "projections = torch.matmul(latents, V[:, :3]).view(32, 3, 8, 8) # project to 3 channel to view the latents as RGB images\n",
    "latent_imgs = projections.cpu().data\n",
    "for i in range(len(latent_imgs)):\n",
    "    for j in range(3):\n",
    "      tmp = latent_imgs[i,j,:,:]\n",
    "      tmp -= tmp.min()\n",
    "      tmp /= tmp.max()\n",
    "      latent_imgs[i,j,:,:] = tmp\n",
    "show(make_grid(latent_imgs), )"
   ]
  },
  {
   "cell_type": "code",
   "execution_count": null,
   "metadata": {
    "colab": {
     "background_save": true
    },
    "id": "bgS9ij7FKcw0",
    "outputId": "24cefcb5-2891-438d-aaee-47cca30a54e3",
    "is_executing": true
   },
   "outputs": [],
   "source": [
    "# create masks\n",
    "masks = torch.ones((32, 3, 8, 8))\n",
    "for i, mask in enumerate(masks):\n",
    "  mask[:, i // 8, i % 8] = 0\n",
    "show(make_grid(masks), )"
   ]
  },
  {
   "cell_type": "code",
   "execution_count": null,
   "metadata": {
    "colab": {
     "background_save": true
    },
    "id": "cReJKfLULkuL",
    "outputId": "ba17bc47-2fff-49f9-b8c6-fd7c73cd4740",
    "is_executing": true
   },
   "outputs": [],
   "source": [
    "masked_latent_imgs = torch.mul(masks, latent_imgs)\n",
    "show(make_grid(masked_latent_imgs), )"
   ]
  },
  {
   "cell_type": "code",
   "execution_count": null,
   "metadata": {
    "colab": {
     "background_save": true
    },
    "id": "mxid-PKmZuFz",
    "outputId": "a9c49b6e-52be-44ae-e83f-20c158a345c5",
    "is_executing": true
   },
   "outputs": [],
   "source": [
    "reconstructed_imgs = valid_reconstructions.cpu().data + 0.5\n",
    "\n",
    "for i in range(len(reconstructed_imgs)):\n",
    "    for j in range(3):\n",
    "      tmp = torch.clamp(reconstructed_imgs[i,j,:,:], 0, 1)\n",
    "      reconstructed_imgs[i,j,:,:] = tmp\n",
    "show(make_grid(reconstructed_imgs), )"
   ]
  },
  {
   "cell_type": "code",
   "execution_count": null,
   "metadata": {
    "colab": {
     "background_save": true
    },
    "id": "4q9-KuKbL1rm",
    "is_executing": true
   },
   "outputs": [],
   "source": [
    "masks = torch.ones((32, embedding_dim, 8, 8))\n",
    "for i, mask in enumerate(masks):\n",
    "  mask[:, i // 8, i % 8] = 0\n",
    "masked_latent_imgs = torch.mul(masks.cuda(), latents.view(32, embedding_dim, 8, 8))\n",
    "masked_valid_reconstructions = model._decoder(masked_latent_imgs)"
   ]
  },
  {
   "cell_type": "code",
   "execution_count": null,
   "metadata": {
    "colab": {
     "background_save": true
    },
    "id": "beYh-hhDMnh0",
    "outputId": "34386d33-34ec-465f-96bc-0b1256351b74",
    "is_executing": true
   },
   "outputs": [],
   "source": [
    "for i in range(len(masked_valid_reconstructions)):\n",
    "    for j in range(3):\n",
    "      tmp = torch.clamp(masked_valid_reconstructions[i,j,:,:] + 0.5, 0, 1)\n",
    "      masked_valid_reconstructions[i,j,:,:] = tmp\n",
    "show(make_grid(masked_valid_reconstructions.cpu().data), )"
   ]
  },
  {
   "cell_type": "code",
   "execution_count": null,
   "metadata": {
    "colab": {
     "background_save": true
    },
    "id": "gMJppVQPEluq",
    "outputId": "813800f2-2bd6-458e-f67c-c9e4e6d3fe60",
    "is_executing": true
   },
   "outputs": [],
   "source": [
    "show(make_grid(valid_originals.cpu()+0.5))"
   ]
  },
  {
   "cell_type": "markdown",
   "metadata": {
    "id": "bSnb7dvsElur"
   },
   "source": [
    "## View Embedding"
   ]
  },
  {
   "cell_type": "code",
   "execution_count": null,
   "metadata": {
    "colab": {
     "background_save": true
    },
    "id": "EDdNnMLTElur",
    "is_executing": true
   },
   "outputs": [],
   "source": [
    "proj = umap.UMAP(n_neighbors=3,\n",
    "                 min_dist=0.1,\n",
    "                 metric='cosine').fit_transform(model._vq_vae._embedding.weight.data.cpu())"
   ]
  },
  {
   "cell_type": "code",
   "execution_count": null,
   "metadata": {
    "colab": {
     "background_save": true
    },
    "id": "9kvweEYUElur",
    "outputId": "0d2bc427-45e7-4ed7-a0f9-f8e09076a41d",
    "is_executing": true
   },
   "outputs": [],
   "source": [
    "plt.scatter(proj[:,0], proj[:,1], alpha=0.3)"
   ]
  },
  {
   "cell_type": "code",
   "execution_count": null,
   "metadata": {
    "colab": {
     "background_save": true
    },
    "id": "lVlvgsUoElur",
    "is_executing": true
   },
   "outputs": [],
   "source": []
  }
 ],
 "metadata": {
  "accelerator": "GPU",
  "colab": {
   "machine_shape": "hm",
   "provenance": []
  },
  "kernelspec": {
   "name": "python3",
   "language": "python",
   "display_name": "Python 3 (ipykernel)"
  },
  "language_info": {
   "codemirror_mode": {
    "name": "ipython",
    "version": 3
   },
   "file_extension": ".py",
   "mimetype": "text/x-python",
   "name": "python",
   "nbconvert_exporter": "python",
   "pygments_lexer": "ipython3",
   "version": "3.6.7"
  }
 },
 "nbformat": 4,
 "nbformat_minor": 0
}
